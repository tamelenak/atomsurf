{
 "cells": [
  {
   "cell_type": "code",
   "execution_count": 1,
   "metadata": {},
   "outputs": [
    {
     "name": "stderr",
     "output_type": "stream",
     "text": [
      "/Users/tamara/anaconda3/envs/atomsurf/lib/python3.8/site-packages/tqdm/auto.py:21: TqdmWarning: IProgress not found. Please update jupyter and ipywidgets. See https://ipywidgets.readthedocs.io/en/stable/user_install.html\n",
      "  from .autonotebook import tqdm as notebook_tqdm\n"
     ]
    }
   ],
   "source": [
    "import os\n",
    "from torch_geometric.data import Data\n",
    "\n",
    "from atomsurf.protein.create_esm import get_esm_embedding_single, get_esm_embedding_batch\n",
    "from atomsurf.utils.data_utils import AtomBatch, PreprocessDataset, pdb_to_surf, pdb_to_graphs\n",
    "from atomsurf.utils.python_utils import do_all\n",
    "#from atomsurf.utils.wrappers import DefaultLoader, get_default_model"
   ]
  },
  {
   "cell_type": "code",
   "execution_count": 2,
   "metadata": {},
   "outputs": [],
   "source": [
    "# Set up data paths\n",
    "pdb_dir = \"example_data/pdb\"\n",
    "surface_dir = \"example_data/surfaces_0.1\"\n",
    "rgraph_dir = \"example_data/rgraph\"\n",
    "esm_dir = \"example_data/esm_emb\"\n",
    "example_name = \"4kt3\""
   ]
  },
  {
   "cell_type": "code",
   "execution_count": 3,
   "metadata": {},
   "outputs": [],
   "source": [
    "# Individual computation\n",
    "# Set up paths\n",
    "pdb_path = os.path.join(pdb_dir, f\"{example_name}.pdb\")\n",
    "surface_dump = os.path.join(surface_dir, f\"{example_name}.pt\")\n",
    "rgraph_dump = os.path.join(rgraph_dir, f\"{example_name}.pt\")"
   ]
  },
  {
   "cell_type": "code",
   "execution_count": 4,
   "metadata": {},
   "outputs": [
    {
     "name": "stdout",
     "output_type": "stream",
     "text": [
      "pdb_to_graph failed for :  example_data/pdb/4kt3.pdb can't convert np.ndarray of type numpy.str_. The only supported types are: float64, float32, float16, complex64, complex128, int64, int32, int16, int8, uint8, and bool.\n"
     ]
    },
    {
     "data": {
      "text/plain": [
       "tensor([[ 0.0488, -0.0112, -0.1231,  ..., -0.0562,  0.1707,  0.1623],\n",
       "        [-0.1003, -0.0680, -0.2085,  ..., -0.4624,  0.0685,  0.0481],\n",
       "        [-0.0185, -0.1279, -0.1999,  ..., -0.2618, -0.0534, -0.0102],\n",
       "        ...,\n",
       "        [ 0.0123, -0.1870,  0.0046,  ..., -0.0819, -0.0566, -0.0228],\n",
       "        [ 0.0018, -0.2486,  0.1032,  ..., -0.1365,  0.0102, -0.0234],\n",
       "        [-0.1018, -0.1732,  0.0069,  ..., -0.2924, -0.0985,  0.1086]])"
      ]
     },
     "execution_count": 4,
     "metadata": {},
     "output_type": "execute_result"
    }
   ],
   "source": [
    "# Pre-compute surface, graphs and esm embeddings\n",
    "pdb_to_surf(pdb_path, surface_dump)\n",
    "pdb_to_graphs(pdb_path, rgraph_dump=rgraph_dump)\n",
    "get_esm_embedding_single(pdb_path, esm_dir)"
   ]
  },
  {
   "cell_type": "code",
   "execution_count": null,
   "metadata": {},
   "outputs": [],
   "source": [
    "# Pre-compute surface, graphs and esm embeddings\n",
    "pdb_to_surf(pdb_path, surface_dump)\n",
    "pdb_to_graphs(pdb_path, rgraph_dump=rgraph_dump)\n",
    "get_esm_embedding_single(pdb_path, esm_dir)\n",
    "\n",
    "# Do the same but automatically on a directory\n",
    "dataset = PreprocessDataset(data_dir=\"example_data\")\n",
    "do_all(dataset, num_workers=2)\n",
    "get_esm_embedding_batch(in_pdbs_dir=pdb_dir, dump_dir=esm_dir)\n",
    "\n",
    "# Load precomputed files\n",
    "default_loader = DefaultLoader(surface_dir=surface_dir, graph_dir=rgraph_dir, embeddings_dir=esm_dir)\n",
    "surface, graph = default_loader(example_name)\n",
    "\n",
    "# Artifically group in a container and \"batch\"\n",
    "protein = Data(surface=surface, graph=graph)\n",
    "batch = AtomBatch.from_data_list([protein, protein])\n",
    "print(batch)\n",
    "\n",
    "# Instantiate a model, based on the dimensionality of the input\n",
    "in_dim_surface, in_dim_graph = surface.x.shape[-1], graph.x.shape[-1]\n",
    "atomsurf_model = get_default_model(in_dim_surface, in_dim_graph, model_dim=12)\n",
    "\n",
    "# Encode your input batch !\n",
    "surface, graph = atomsurf_model(graph=batch.graph, surface=batch.surface)\n",
    "surface.x  # (total_n_verts, hidden_dim)\n",
    "graph.x  # (total_n_nodes, hidden_dim)\n",
    "print(graph.x.shape)"
   ]
  },
  {
   "cell_type": "code",
   "execution_count": null,
   "metadata": {},
   "outputs": [],
   "source": []
  }
 ],
 "metadata": {
  "kernelspec": {
   "display_name": "atomsurf",
   "language": "python",
   "name": "python3"
  },
  "language_info": {
   "codemirror_mode": {
    "name": "ipython",
    "version": 3
   },
   "file_extension": ".py",
   "mimetype": "text/x-python",
   "name": "python",
   "nbconvert_exporter": "python",
   "pygments_lexer": "ipython3",
   "version": "3.8.20"
  }
 },
 "nbformat": 4,
 "nbformat_minor": 2
}

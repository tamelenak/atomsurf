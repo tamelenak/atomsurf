{
 "cells": [
  {
   "cell_type": "code",
   "execution_count": 1,
   "metadata": {},
   "outputs": [],
   "source": [
    "import os\n",
    "import sys\n",
    "import torch\n",
    "import numpy as np\n",
    "from torch_geometric.data import Data\n",
    "import matplotlib.pyplot as plt\n",
    "from mpl_toolkits.mplot3d import Axes3D\n",
    "\n",
    "from atomsurf.protein.create_esm import get_esm_embedding_single, get_esm_embedding_batch\n",
    "from atomsurf.utils.data_utils import AtomBatch, PreprocessDataset\n",
    "from atomsurf.utils.python_utils import do_all\n",
    "from atomsurf.utils.wrappers import DefaultLoader, get_default_model\n",
    "from atomsurf.tasks.masif_site.preprocess import PreProcessMSDataset\n",
    "from atomsurf.tasks.masif_site.model import MasifSiteNet\n",
    "from atomsurf.tasks.masif_site.data_loader import MasifSiteDataset\n",
    "from atomsurf.utils.data_utils import AtomBatch, PreprocessDataset, pdb_to_surf, pdb_to_graphs"
   ]
  },
  {
   "cell_type": "code",
   "execution_count": 2,
   "metadata": {},
   "outputs": [],
   "source": [
    "def download_masif_site_dataset(data_dir=\"data/masif_site\"):\n",
    "    \"\"\"\n",
    "    Download the MaSIF site dataset.\n",
    "    \n",
    "    Args:\n",
    "        data_dir: Directory to store the dataset\n",
    "    \"\"\"\n",
    "    os.makedirs(data_dir, exist_ok=True)\n",
    "    \n",
    "    # Check if dataset already exists\n",
    "    if os.path.exists(os.path.join(data_dir, \"01-benchmark_pdbs\")):\n",
    "        print(f\"Dataset already exists in {data_dir}\")\n",
    "        return\n",
    "    \n",
    "    print(\"Downloading MaSIF site dataset...\")\n",
    "\n",
    "    os.system(f\"wget -O masif_site_masif_search_pdbs_and_ply_files.tar.gz https://zenodo.org/records/2625420/files/masif_site_masif_search_pdbs_and_ply_files.tar.gz\")\n",
    "    os.system(f\"tar -xzf masif_site_masif_search_pdbs_and_ply_files.tar.gz -C {data_dir}\")\n"
   ]
  },
  {
   "cell_type": "code",
   "execution_count": 3,
   "metadata": {},
   "outputs": [],
   "source": [
    "def setup_directories():\n",
    "    \"\"\"Set up necessary directories for data processing and results.\"\"\"\n",
    "    data_dir = \"data/masif_site\"\n",
    "    benchmark_pdb_dir = os.path.join(data_dir, \"pdb\")\n",
    "    surface_dir = os.path.join(data_dir, \"surfaces\")\n",
    "    rgraph_dir = os.path.join(data_dir, \"rgraph\")\n",
    "    esm_dir = os.path.join(data_dir, \"esm_emb\")\n",
    "\n",
    "    # Create output directories if they don't exist\n",
    "    os.makedirs(surface_dir, exist_ok=True)\n",
    "    os.makedirs(rgraph_dir, exist_ok=True)\n",
    "    os.makedirs(esm_dir, exist_ok=True)\n",
    "\n",
    "    return data_dir, benchmark_pdb_dir, surface_dir, rgraph_dir, esm_dir\n"
   ]
  },
  {
   "cell_type": "code",
   "execution_count": 4,
   "metadata": {},
   "outputs": [],
   "source": [
    "def preprocess_data(data_dir, pdb_dir, esm_dir):\n",
    "    \"\"\"Preprocess the data including surface generation and ESM embeddings.\"\"\"\n",
    "    print(\"Starting data preprocessing...\")\n",
    "    \n",
    "    # Initialize the preprocessing dataset\n",
    "    dataset = PreProcessMSDataset(\n",
    "        data_dir=data_dir,\n",
    "        recompute_s=True,  # Set to True to recompute surfaces\n",
    "        recompute_g=True,  # Set to True to recompute graphs\n",
    "        face_reduction_rate=0.5,  # Adjust this value to control mesh resolution\n",
    "        use_pymesh=False\n",
    "    )\n",
    "\n",
    "    # Run preprocessing\n",
    "    print(\"Processing surfaces and graphs...\")\n",
    "    do_all(dataset, num_workers=4)  # Adjust number of workers based on your system\n",
    "\n",
    "    # Generate ESM embeddings\n",
    "    print(\"Generating ESM embeddings...\")\n",
    "    get_esm_embedding_batch(in_pdbs_dir=pdb_dir, dump_dir=esm_dir)\n",
    "    \n",
    "    print(\"Preprocessing complete!\")"
   ]
  },
  {
   "cell_type": "code",
   "execution_count": null,
   "metadata": {},
   "outputs": [],
   "source": []
  },
  {
   "cell_type": "markdown",
   "metadata": {},
   "source": [
    "### Main Script"
   ]
  },
  {
   "cell_type": "code",
   "execution_count": 5,
   "metadata": {},
   "outputs": [],
   "source": [
    "#download_masif_site_dataset()"
   ]
  },
  {
   "cell_type": "code",
   "execution_count": 6,
   "metadata": {},
   "outputs": [],
   "source": [
    "data_dir, pdb_dir, surface_dir, rgraph_dir, esm_dir = setup_directories()"
   ]
  },
  {
   "cell_type": "code",
   "execution_count": 7,
   "metadata": {},
   "outputs": [
    {
     "name": "stdout",
     "output_type": "stream",
     "text": [
      "Starting data preprocessing...\n"
     ]
    },
    {
     "ename": "FileNotFoundError",
     "evalue": "[Errno 2] No such file or directory: 'data/masif_site/01-benchmark_pdbs'",
     "output_type": "error",
     "traceback": [
      "\u001b[0;31m---------------------------------------------------------------------------\u001b[0m",
      "\u001b[0;31mFileNotFoundError\u001b[0m                         Traceback (most recent call last)",
      "Cell \u001b[0;32mIn[7], line 1\u001b[0m\n\u001b[0;32m----> 1\u001b[0m \u001b[43mpreprocess_data\u001b[49m\u001b[43m(\u001b[49m\u001b[43mdata_dir\u001b[49m\u001b[43m,\u001b[49m\u001b[43m \u001b[49m\u001b[43mpdb_dir\u001b[49m\u001b[43m,\u001b[49m\u001b[43m \u001b[49m\u001b[43mesm_dir\u001b[49m\u001b[43m)\u001b[49m\n",
      "Cell \u001b[0;32mIn[4], line 6\u001b[0m, in \u001b[0;36mpreprocess_data\u001b[0;34m(data_dir, pdb_dir, esm_dir)\u001b[0m\n\u001b[1;32m      3\u001b[0m \u001b[38;5;28mprint\u001b[39m(\u001b[38;5;124m\"\u001b[39m\u001b[38;5;124mStarting data preprocessing...\u001b[39m\u001b[38;5;124m\"\u001b[39m)\n\u001b[1;32m      5\u001b[0m \u001b[38;5;66;03m# Initialize the preprocessing dataset\u001b[39;00m\n\u001b[0;32m----> 6\u001b[0m dataset \u001b[38;5;241m=\u001b[39m \u001b[43mPreProcessMSDataset\u001b[49m\u001b[43m(\u001b[49m\n\u001b[1;32m      7\u001b[0m \u001b[43m    \u001b[49m\u001b[43mdata_dir\u001b[49m\u001b[38;5;241;43m=\u001b[39;49m\u001b[43mdata_dir\u001b[49m\u001b[43m,\u001b[49m\n\u001b[1;32m      8\u001b[0m \u001b[43m    \u001b[49m\u001b[43mrecompute_s\u001b[49m\u001b[38;5;241;43m=\u001b[39;49m\u001b[38;5;28;43;01mTrue\u001b[39;49;00m\u001b[43m,\u001b[49m\u001b[43m  \u001b[49m\u001b[38;5;66;43;03m# Set to True to recompute surfaces\u001b[39;49;00m\n\u001b[1;32m      9\u001b[0m \u001b[43m    \u001b[49m\u001b[43mrecompute_g\u001b[49m\u001b[38;5;241;43m=\u001b[39;49m\u001b[38;5;28;43;01mTrue\u001b[39;49;00m\u001b[43m,\u001b[49m\u001b[43m  \u001b[49m\u001b[38;5;66;43;03m# Set to True to recompute graphs\u001b[39;49;00m\n\u001b[1;32m     10\u001b[0m \u001b[43m    \u001b[49m\u001b[43mface_reduction_rate\u001b[49m\u001b[38;5;241;43m=\u001b[39;49m\u001b[38;5;241;43m0.5\u001b[39;49m\u001b[43m,\u001b[49m\u001b[43m  \u001b[49m\u001b[38;5;66;43;03m# Adjust this value to control mesh resolution\u001b[39;49;00m\n\u001b[1;32m     11\u001b[0m \u001b[43m    \u001b[49m\u001b[43muse_pymesh\u001b[49m\u001b[38;5;241;43m=\u001b[39;49m\u001b[38;5;28;43;01mFalse\u001b[39;49;00m\n\u001b[1;32m     12\u001b[0m \u001b[43m\u001b[49m\u001b[43m)\u001b[49m\n\u001b[1;32m     14\u001b[0m \u001b[38;5;66;03m# Run preprocessing\u001b[39;00m\n\u001b[1;32m     15\u001b[0m \u001b[38;5;28mprint\u001b[39m(\u001b[38;5;124m\"\u001b[39m\u001b[38;5;124mProcessing surfaces and graphs...\u001b[39m\u001b[38;5;124m\"\u001b[39m)\n",
      "File \u001b[0;32m~/atomsurf/atomsurf/tasks/masif_site/preprocess.py:37\u001b[0m, in \u001b[0;36mPreProcessMSDataset.__init__\u001b[0;34m(self, recompute_s, recompute_g, data_dir, face_reduction_rate, max_vert_number, use_pymesh)\u001b[0m\n\u001b[1;32m     34\u001b[0m \u001b[38;5;28mself\u001b[39m\u001b[38;5;241m.\u001b[39mply_dir \u001b[38;5;241m=\u001b[39m os\u001b[38;5;241m.\u001b[39mpath\u001b[38;5;241m.\u001b[39mjoin(data_dir, \u001b[38;5;124m'\u001b[39m\u001b[38;5;124m01-benchmark_surfaces\u001b[39m\u001b[38;5;124m'\u001b[39m)\n\u001b[1;32m     36\u001b[0m \u001b[38;5;66;03m# Get list of all PDB files\u001b[39;00m\n\u001b[0;32m---> 37\u001b[0m \u001b[38;5;28mself\u001b[39m\u001b[38;5;241m.\u001b[39mall_pdbs \u001b[38;5;241m=\u001b[39m \u001b[38;5;28msorted\u001b[39m([os\u001b[38;5;241m.\u001b[39mpath\u001b[38;5;241m.\u001b[39msplitext(f)[\u001b[38;5;241m0\u001b[39m] \u001b[38;5;28;01mfor\u001b[39;00m f \u001b[38;5;129;01min\u001b[39;00m \u001b[43mos\u001b[49m\u001b[38;5;241;43m.\u001b[39;49m\u001b[43mlistdir\u001b[49m\u001b[43m(\u001b[49m\u001b[38;5;28;43mself\u001b[39;49m\u001b[38;5;241;43m.\u001b[39;49m\u001b[43mpdb_dir\u001b[49m\u001b[43m)\u001b[49m \u001b[38;5;28;01mif\u001b[39;00m f\u001b[38;5;241m.\u001b[39mendswith(\u001b[38;5;124m'\u001b[39m\u001b[38;5;124m.pdb\u001b[39m\u001b[38;5;124m'\u001b[39m)])\n\u001b[1;32m     39\u001b[0m \u001b[38;5;66;03m# Create splits directory if it doesn't exist\u001b[39;00m\n\u001b[1;32m     40\u001b[0m splits_dir \u001b[38;5;241m=\u001b[39m os\u001b[38;5;241m.\u001b[39mpath\u001b[38;5;241m.\u001b[39mjoin(data_dir, \u001b[38;5;124m'\u001b[39m\u001b[38;5;124msplits\u001b[39m\u001b[38;5;124m'\u001b[39m)\n",
      "\u001b[0;31mFileNotFoundError\u001b[0m: [Errno 2] No such file or directory: 'data/masif_site/01-benchmark_pdbs'"
     ]
    }
   ],
   "source": [
    "preprocess_data(data_dir, pdb_dir, esm_dir)"
   ]
  },
  {
   "cell_type": "code",
   "execution_count": null,
   "metadata": {},
   "outputs": [],
   "source": []
  },
  {
   "cell_type": "code",
   "execution_count": null,
   "metadata": {},
   "outputs": [],
   "source": []
  }
 ],
 "metadata": {
  "kernelspec": {
   "display_name": "Python (atomsurf)",
   "language": "python",
   "name": "atomsurf"
  },
  "language_info": {
   "codemirror_mode": {
    "name": "ipython",
    "version": 3
   },
   "file_extension": ".py",
   "mimetype": "text/x-python",
   "name": "python",
   "nbconvert_exporter": "python",
   "pygments_lexer": "ipython3",
   "version": "3.8.19"
  }
 },
 "nbformat": 4,
 "nbformat_minor": 2
}

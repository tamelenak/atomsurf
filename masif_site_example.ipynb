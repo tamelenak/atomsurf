{
 "cells": [
  {
   "cell_type": "code",
   "execution_count": 1,
   "metadata": {},
   "outputs": [],
   "source": [
    "import os\n",
    "import sys\n",
    "import torch\n",
    "import numpy as np\n",
    "from torch_geometric.data import Data\n",
    "import matplotlib.pyplot as plt\n",
    "from mpl_toolkits.mplot3d import Axes3D\n",
    "\n",
    "from atomsurf.protein.create_esm import get_esm_embedding_single, get_esm_embedding_batch\n",
    "from atomsurf.utils.data_utils import AtomBatch, PreprocessDataset\n",
    "from atomsurf.utils.python_utils import do_all\n",
    "from atomsurf.utils.wrappers import DefaultLoader, get_default_model\n",
    "from atomsurf.tasks.masif_site.preprocess import PreProcessMSDataset\n",
    "from atomsurf.tasks.masif_site.model import MasifSiteNet\n",
    "from atomsurf.tasks.masif_site.data_loader import MasifSiteDataset\n",
    "from atomsurf.utils.data_utils import AtomBatch, PreprocessDataset, pdb_to_surf, pdb_to_graphs"
   ]
  },
  {
   "cell_type": "code",
   "execution_count": 2,
   "metadata": {},
   "outputs": [],
   "source": [
    "def download_masif_site_dataset(data_dir=\"data/masif_site\"):\n",
    "    \"\"\"\n",
    "    Download the MaSIF site dataset.\n",
    "    \n",
    "    Args:\n",
    "        data_dir: Directory to store the dataset\n",
    "    \"\"\"\n",
    "    os.makedirs(data_dir, exist_ok=True)\n",
    "    \n",
    "    # Check if dataset already exists\n",
    "    if os.path.exists(os.path.join(data_dir, \"01-benchmark_pdbs\")):\n",
    "        print(f\"Dataset already exists in {data_dir}\")\n",
    "        return\n",
    "    \n",
    "    print(\"Downloading MaSIF site dataset...\")\n",
    "\n",
    "    os.system(f\"wget -O masif_site_masif_search_pdbs_and_ply_files.tar.gz https://zenodo.org/records/2625420/files/masif_site_masif_search_pdbs_and_ply_files.tar.gz\")\n",
    "    os.system(f\"tar -xzf masif_site_masif_search_pdbs_and_ply_files.tar.gz -C {data_dir}\")\n"
   ]
  },
  {
   "cell_type": "code",
   "execution_count": 3,
   "metadata": {},
   "outputs": [],
   "source": [
    "def setup_directories():\n",
    "    \"\"\"Set up necessary directories for data processing and results.\"\"\"\n",
    "    data_dir = \"data/masif_site\"\n",
    "    benchmark_pdb_dir = os.path.join(data_dir, \"01-benchmark_pdbs\")\n",
    "    surface_dir = os.path.join(data_dir, \"surfaces\")\n",
    "    rgraph_dir = os.path.join(data_dir, \"rgraph\")\n",
    "    esm_dir = os.path.join(data_dir, \"esm_emb\")\n",
    "\n",
    "    # Create output directories if they don't exist\n",
    "    os.makedirs(surface_dir, exist_ok=True)\n",
    "    os.makedirs(rgraph_dir, exist_ok=True)\n",
    "    os.makedirs(esm_dir, exist_ok=True)\n",
    "\n",
    "    return data_dir, benchmark_pdb_dir, surface_dir, rgraph_dir, esm_dir\n"
   ]
  },
  {
   "cell_type": "code",
   "execution_count": 4,
   "metadata": {},
   "outputs": [],
   "source": [
    "def preprocess_data(data_dir, pdb_dir, esm_dir):\n",
    "    \"\"\"Preprocess the data including surface generation and ESM embeddings.\"\"\"\n",
    "    print(\"Starting data preprocessing...\")\n",
    "    \n",
    "    # Initialize the preprocessing dataset\n",
    "    dataset = PreProcessMSDataset(\n",
    "        data_dir=data_dir,\n",
    "        recompute_s=True,  # Set to True to recompute surfaces\n",
    "        recompute_g=True,  # Set to True to recompute graphs\n",
    "        face_reduction_rate=0.5,  # Adjust this value to control mesh resolution\n",
    "        use_pymesh=False\n",
    "    )\n",
    "        # Run preprocessing\n",
    "    dataset.process_all(num_workers=4, use_gpu=True)\n",
    "\n",
    "    # Generate ESM embeddings\n",
    "    print(\"Generating ESM embeddings...\")\n",
    "    get_esm_embedding_batch(in_pdbs_dir=pdb_dir, dump_dir=esm_dir)\n",
    "    \n",
    "    print(\"Preprocessing complete!\")"
   ]
  },
  {
   "cell_type": "markdown",
   "metadata": {},
   "source": [
    "### Main Script"
   ]
  },
  {
   "cell_type": "code",
   "execution_count": 5,
   "metadata": {},
   "outputs": [],
   "source": [
    "#download_masif_site_dataset()"
   ]
  },
  {
   "cell_type": "code",
   "execution_count": 6,
   "metadata": {},
   "outputs": [],
   "source": [
    "data_dir, pdb_dir, surface_dir, rgraph_dir, esm_dir = setup_directories()"
   ]
  },
  {
   "cell_type": "code",
   "execution_count": null,
   "metadata": {},
   "outputs": [
    {
     "name": "stdout",
     "output_type": "stream",
     "text": [
      "Starting data preprocessing...\n",
      "Successfully processed 1A0H_D\n",
      "Successfully processed 1A14_HL\n",
      "Successfully processed 1A0G_B\n",
      "Successfully processed 1A0H_E\n",
      "Successfully processed 1A0G_A\n",
      "Successfully processed 1A1U_A\n",
      "Successfully processed 1A1U_C\n",
      "Successfully processed 1A14_N\n",
      "Successfully processed 1A22_A\n",
      "Successfully processed 1A2A_C\n",
      "Successfully processed 1A22_B\n",
      "Successfully processed 1A2A_D\n",
      "Successfully processed 1A2W_A\n",
      "Successfully processed 1A2K_C\n",
      "Successfully processed 1A2K_AB\n",
      "Successfully processed 1A2X_B\n",
      "Successfully processed 1A2W_B\n",
      "Successfully processed 1A2X_A\n",
      "Successfully processed 1A2Y_C\n",
      "Successfully processed 1A3R_P\n",
      "Successfully processed 1A2Y_BA\n",
      "Successfully processed 1A3R_H\n",
      "Successfully processed 1A6J_A\n",
      "Successfully processed 1A6J_B\n",
      "Successfully processed 1A79_B\n",
      "Successfully processed 1A79_C\n",
      "Successfully processed 1A6D_B\n",
      "Successfully processed 1A6D_A\n",
      "Successfully processed 1A99_C\n",
      "Successfully processed 1AA7_B\n",
      "Successfully processed 1AA7_A\n"
     ]
    }
   ],
   "source": [
    "preprocess_data(data_dir, pdb_dir, esm_dir)"
   ]
  },
  {
   "cell_type": "code",
   "execution_count": null,
   "metadata": {},
   "outputs": [],
   "source": []
  }
 ],
 "metadata": {
  "kernelspec": {
   "display_name": "Python (atomsurf)",
   "language": "python",
   "name": "atomsurf"
  },
  "language_info": {
   "codemirror_mode": {
    "name": "ipython",
    "version": 3
   },
   "file_extension": ".py",
   "mimetype": "text/x-python",
   "name": "python",
   "nbconvert_exporter": "python",
   "pygments_lexer": "ipython3",
   "version": "3.8.19"
  }
 },
 "nbformat": 4,
 "nbformat_minor": 2
}
